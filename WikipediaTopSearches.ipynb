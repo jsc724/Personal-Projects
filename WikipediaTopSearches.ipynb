{
 "cells": [
  {
   "cell_type": "code",
   "execution_count": 1,
   "metadata": {},
   "outputs": [],
   "source": [
    "from google.cloud import bigquery\n",
    "import pandas as pd"
   ]
  },
  {
   "cell_type": "code",
   "execution_count": 2,
   "metadata": {},
   "outputs": [],
   "source": [
    "client = bigquery.Client()\n",
    "query = \"\"\"\n",
    "SELECT *\n",
    "FROM (\n",
    "SELECT *, RANK() OVER (PARTITION BY SEARCH_WEEK ORDER BY WKLY_VIEWS DESC) AS WKLY_VIEWS_RANK\n",
    "FROM (\n",
    "SELECT WIK.title, EXTRACT(WEEK FROM datehour) AS SEARCH_WEEK, SUM(WIK.views) AS WKLY_VIEWS\n",
    "FROM `bigquery-public-data.wikipedia.pageviews_2023` WIK\n",
    "WHERE DATE(datehour) >= \"2023-01-01\"\n",
    "AND TRIM(UPPER(WIK.wiki)) = 'EN.M'\n",
    "AND TRIM(UPPER(WIK.title)) NOT IN ('MAIN_PAGE','SPECIAL:SEARCH')\n",
    "AND UPPER(WIK.title) NOT LIKE '%WIKIPEDIA%'\n",
    "GROUP BY 1,2))\n",
    "WHERE WKLY_VIEWS_RANK <= 10\n",
    "ORDER BY 2, 3 DESC;\n",
    "\"\"\"\n",
    "df = pd.read_gbq(query)\n",
    "df.to_csv(\"C:/Users/jakes/Documents/WikipediaTop2023SearchTermsByWeek.csv\", index=False)"
   ]
  }
 ],
 "metadata": {
  "kernelspec": {
   "display_name": "Python 3",
   "language": "python",
   "name": "python3"
  },
  "language_info": {
   "codemirror_mode": {
    "name": "ipython",
    "version": 3
   },
   "file_extension": ".py",
   "mimetype": "text/x-python",
   "name": "python",
   "nbconvert_exporter": "python",
   "pygments_lexer": "ipython3",
   "version": "3.11.2"
  },
  "orig_nbformat": 4,
  "vscode": {
   "interpreter": {
    "hash": "ec3d8646c270b38a2f546dbeaa53c561e38a5bca1eac2e9b81e885df7e51fb31"
   }
  }
 },
 "nbformat": 4,
 "nbformat_minor": 2
}
