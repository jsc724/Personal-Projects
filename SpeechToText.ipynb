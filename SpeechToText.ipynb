{
 "cells": [
  {
   "cell_type": "code",
   "execution_count": 56,
   "metadata": {},
   "outputs": [],
   "source": [
    "from google.cloud import speech\n",
    "import google.cloud\n",
    "from google.auth.transport.requests import AuthorizedSession\n",
    "from google.cloud import storage\n",
    "import google.auth\n",
    "import io\n",
    "import librosa\n",
    "import soundfile as sf\n",
    "import os"
   ]
  },
  {
   "cell_type": "code",
   "execution_count": 65,
   "metadata": {},
   "outputs": [
    {
     "name": "stdout",
     "output_type": "stream",
     "text": [
      "I said I love you too too many as shown commitment that too few in the past I chickened out so many chances I blew I want someone to take to the two men beyond that takes to buy most of the time the timing's off with this time's different words I love you have lost their meaning so generic so overused. I'm going with arrows I want your body I want your soul come over and fine with me I want to know what you know I want you to see what I see was touched the source of the tree was that activate the tea I think with you it's meant to be but I'm amazed at the beginning of time and he's like there's one I'm supposed to find and might be you I don't know I  could be wrong but what else is there to do besides extend my hand and see what you choose to you  love you too too many have shown commitment it to you in the past I've shaken. Some may be chances I blew I want someone that takes most of the time the timing's off at this time is different in my son I'll keep my seat I'll keep it to me and breathe so much time spent on the scene sucking the life out of me kept me away from your being thought you were out of my league dumb as fuk I know but there's still a chance that we could be I think I'm so lost but I think you are to keep on dropping me clues I'll do the same for you that is all we can do until I see a window to make them move trust me I will  if I do not I know it'll make me at the beginning of time and he's like there's one I'm supposed to find and might be you I don't know I could be wrong but what else is there to do besides it's in my hand and see what you choose  Mega Movie I love you too too many commitments and the path that takes to buy most of the time the timing's off but this time's different in my thoughts \n"
     ]
    }
   ],
   "source": [
    "filepath = \"C:/Users/jakes/Music/PythonStems/Eros/\"\n",
    "os.chdir(filepath)\n",
    "file = 'vocals.wav'\n",
    "y, s = librosa.load(file, sr=16000)\n",
    "sf.write('vocalsds.wav',y,16000)\n",
    "\n",
    "client = google.cloud.storage.Client(project='music-business-370706')\n",
    "bucket = client.get_bucket('pythonstems')\n",
    "blob = bucket.blob('erosvocals.wav',chunk_size=524288)\n",
    "blob.upload_from_filename('vocalsds.wav')\n",
    "\n",
    "speechclient = speech.SpeechClient()\n",
    "\n",
    "audio = speech.RecognitionAudio(uri='gs://pythonstems/'+blob.name)\n",
    "config = speech.RecognitionConfig(\n",
    "    encoding=speech.RecognitionConfig.AudioEncoding.LINEAR16,\n",
    "    language_code=\"en-US\",\n",
    ")\n",
    "\n",
    "operation = speechclient.long_running_recognize(config=config, audio=audio)\n",
    "\n",
    "response = operation.result(timeout=500)\n",
    "\n",
    "verse = ''\n",
    "for result in response.results:\n",
    "    # The first alternative is the most likely one for this portion.\n",
    "    verse += result.alternatives[0].transcript + ' '\n",
    "    #print(\"Confidence: {}\".format(result.alternatives[0].confidence))\n",
    "print(verse)"
   ]
  }
 ],
 "metadata": {
  "kernelspec": {
   "display_name": "Python 3",
   "language": "python",
   "name": "python3"
  },
  "language_info": {
   "codemirror_mode": {
    "name": "ipython",
    "version": 3
   },
   "file_extension": ".py",
   "mimetype": "text/x-python",
   "name": "python",
   "nbconvert_exporter": "python",
   "pygments_lexer": "ipython3",
   "version": "3.10.4"
  },
  "orig_nbformat": 4,
  "vscode": {
   "interpreter": {
    "hash": "92343f37f3a868136799984c626ddfb8a16329060edb06d86c3a5e6c86a7b25c"
   }
  }
 },
 "nbformat": 4,
 "nbformat_minor": 2
}
