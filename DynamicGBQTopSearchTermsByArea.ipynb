{
 "cells": [
  {
   "cell_type": "code",
   "execution_count": 1,
   "metadata": {},
   "outputs": [],
   "source": [
    "from google.cloud import bigquery\n",
    "import pandas as pd"
   ]
  },
  {
   "cell_type": "code",
   "execution_count": 2,
   "metadata": {},
   "outputs": [
    {
     "name": "stdout",
     "output_type": "stream",
     "text": [
      "                 dma_name                      term  TOTAL_SCORE  TERM_RANK\n",
      "0   Abilene-Sweetwater TX                       PSG         2756        773\n",
      "1   Abilene-Sweetwater TX                 Bad Bunny         2716        827\n",
      "2   Abilene-Sweetwater TX             American Idol         2687        859\n",
      "3   Abilene-Sweetwater TX              Dolly Parton         2629        926\n",
      "4   Abilene-Sweetwater TX  Liverpool vs Real Madrid         2608        947\n",
      "..                    ...                       ...          ...        ...\n",
      "20                  TOTAL            Meyers Leonard       269343         21\n",
      "21                  TOTAL                     Putin       249200         22\n",
      "22                  TOTAL            Jim Bob Cooter       233404         23\n",
      "23                  TOTAL         Jansen Panettiere       230620         24\n",
      "24                  TOTAL              Alec Baldwin       177309         25\n",
      "\n",
      "[5275 rows x 4 columns]\n"
     ]
    }
   ],
   "source": [
    "# credpath ='C:/Users/jakes/OneDrive/Documents/Python/credentials.json'\n",
    "# credentials = credentials.Credentials.from_authorized_user_file(credpath)\n",
    "# client = bigquery.Client(credentials=credentials)\n",
    "client = bigquery.Client()\n",
    "\n",
    "zonequery = \"\"\"\n",
    "SELECT TT.dma_name, term, SUM(score) as TOTAL_SCORE, RANK() OVER (ORDER BY SUM(score) DESC) AS TERM_RANK\n",
    "FROM `bigquery-public-data.google_trends.top_terms` TT\n",
    "WHERE\n",
    "    1=1\n",
    "   AND refresh_date = (SELECT MAX(refresh_date) FROM `bigquery-public-data.google_trends.top_terms`)\n",
    "GROUP BY 1,2\n",
    "ORDER BY 1 ASC,4 ASC;\n",
    "\"\"\"\n",
    "df = pd.read_gbq(zonequery)\n",
    "totalquery = \"\"\"\n",
    "SELECT term, SUM(score) as TOTAL_SCORE, RANK() OVER (ORDER BY SUM(score) DESC) AS TERM_RANK\n",
    "FROM `bigquery-public-data.google_trends.top_terms` TT\n",
    "WHERE\n",
    "    1=1\n",
    "   AND refresh_date = (SELECT MAX(refresh_date) FROM `bigquery-public-data.google_trends.top_terms`)\n",
    "GROUP BY 1\n",
    "ORDER BY 3 ASC;\n",
    "\"\"\"\n",
    "appenddf = pd.read_gbq(totalquery)\n",
    "appenddf['dma_name'] = 'TOTAL'\n",
    "df = pd.concat([df,appenddf])\n",
    "df.to_csv('C:/Users/jakes/Documents/TopGoogleSearchTerms.csv')"
   ]
  }
 ],
 "metadata": {
  "kernelspec": {
   "display_name": "Python 3",
   "language": "python",
   "name": "python3"
  },
  "language_info": {
   "codemirror_mode": {
    "name": "ipython",
    "version": 3
   },
   "file_extension": ".py",
   "mimetype": "text/x-python",
   "name": "python",
   "nbconvert_exporter": "python",
   "pygments_lexer": "ipython3",
   "version": "3.11.2"
  },
  "orig_nbformat": 4,
  "vscode": {
   "interpreter": {
    "hash": "ec3d8646c270b38a2f546dbeaa53c561e38a5bca1eac2e9b81e885df7e51fb31"
   }
  }
 },
 "nbformat": 4,
 "nbformat_minor": 2
}
