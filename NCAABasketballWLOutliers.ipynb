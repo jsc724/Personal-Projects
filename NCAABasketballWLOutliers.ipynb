{
 "cells": [
  {
   "cell_type": "code",
   "execution_count": 2,
   "metadata": {},
   "outputs": [],
   "source": [
    "from google.cloud import bigquery\n",
    "import pandas as pd"
   ]
  },
  {
   "cell_type": "code",
   "execution_count": 8,
   "metadata": {},
   "outputs": [],
   "source": [
    "client = bigquery.Client()\n",
    "outlierquery = \"\"\"\n",
    "WITH RAW AS(\n",
    "SELECT BB.season, BB.market, BB.wins, BB.losses, IFNULL(SAFE_DIVIDE(BB.wins,BB.wins+BB.losses),0.5) AS WIN_PCT, AVG(IFNULL(SAFE_DIVIDE(BB.wins,BB.wins+BB.losses),0.5)) OVER (PARTITION BY BB.season) AS MEAN_WIN_PCT,\n",
    "STDDEV(IFNULL(SAFE_DIVIDE(BB.wins,BB.wins+BB.losses),0.5)) OVER (PARTITION BY BB.season) AS STDDEV_WIN_PCT\n",
    "FROM `bigquery-public-data.ncaa_basketball.mbb_historical_teams_seasons` BB),\n",
    "ZS AS (\n",
    "SELECT *, IFNULL(SAFE_DIVIDE(WIN_PCT-MEAN_WIN_PCT,STDDEV_WIN_PCT),1) AS ZSCORE\n",
    "FROM RAW)\n",
    "SELECT *, CASE WHEN ABS(ZSCORE) >= 2 THEN 1 ELSE 0 END AS OUTLIER_FLAG\n",
    "FROM ZS\n",
    "ORDER BY season ASC, ABS(ZSCORE) DESC\n",
    "\"\"\"\n",
    "df = pd.read_gbq(outlierquery)\n",
    "df.to_csv('C:/Users/jakes/Documents/NCAAMBBWinPctOutliers.csv')"
   ]
  }
 ],
 "metadata": {
  "kernelspec": {
   "display_name": "Python 3",
   "language": "python",
   "name": "python3"
  },
  "language_info": {
   "codemirror_mode": {
    "name": "ipython",
    "version": 3
   },
   "file_extension": ".py",
   "mimetype": "text/x-python",
   "name": "python",
   "nbconvert_exporter": "python",
   "pygments_lexer": "ipython3",
   "version": "3.11.2"
  },
  "orig_nbformat": 4,
  "vscode": {
   "interpreter": {
    "hash": "ec3d8646c270b38a2f546dbeaa53c561e38a5bca1eac2e9b81e885df7e51fb31"
   }
  }
 },
 "nbformat": 4,
 "nbformat_minor": 2
}
